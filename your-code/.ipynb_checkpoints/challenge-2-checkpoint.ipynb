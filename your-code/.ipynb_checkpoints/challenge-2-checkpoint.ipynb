{
 "cells": [
  {
   "cell_type": "markdown",
   "metadata": {},
   "source": [
    "## Challenge 2: Sets\n",
    "\n",
    "There are a lot to learn about Python Sets and the information presented in the lesson is limited due to its length. To learn Python Sets in depth you are strongly encouraged to review the W3Schools tutorial on [Python Sets Examples and Methods](https://www.w3schools.com/python/python_sets.asp) before you work on this lab. Some difficult questions in this lab have their solutions in the W3Schools tutorial.\n",
    "\n",
    "#### First, import the Python `random` libary"
   ]
  },
  {
   "cell_type": "code",
   "execution_count": 5,
   "metadata": {},
   "outputs": [],
   "source": [
    "import random\n",
    "import numpy as np"
   ]
  },
  {
   "cell_type": "markdown",
   "metadata": {},
   "source": [
    "#### In the cell below, create a list named `sample_list_1` with 80 random values. \n",
    "\n",
    "Requirements:\n",
    "\n",
    "* Each value is an integer falling between 0 and 100.\n",
    "* Each value in the list is unique.\n",
    "\n",
    "Print `sample_list_1` to review its values\n",
    "\n",
    "*Hint: use `random.sample` ([reference](https://docs.python.org/3/library/random.html#random.sample)).*"
   ]
  },
  {
   "cell_type": "code",
   "execution_count": 6,
   "metadata": {},
   "outputs": [
    {
     "name": "stdout",
     "output_type": "stream",
     "text": [
      "[84, 34, 7, 99, 83, 66, 91, 41, 59, 2, 18, 14, 6, 41, 67, 34, 37, 98, 36, 96, 20, 25, 71, 65, 21, 76, 86, 12, 79, 39, 50, 82, 27, 43, 64, 63, 49, 71, 83, 100, 73, 0, 28, 22, 74, 89, 65, 5, 61, 9, 60, 46, 30, 86, 82, 56, 11, 85, 96, 49, 94, 49, 33, 10, 11, 11, 85, 55, 5, 20, 65, 29, 76, 33, 92, 12, 0, 45, 6, 61]\n",
      "<class 'list'>\n"
     ]
    }
   ],
   "source": [
    "# Your code here\n",
    "#sample_list_1 = [np.random.randint(100, size=(1, 80))] \n",
    "sample_list_1 = [random.randint(0,100) for x in range(80)]\n",
    "#for x in range(80):\n",
    "    \n",
    "    \n",
    "print(sample_list_1)\n",
    "print(type(sample_list_1))\n"
   ]
  },
  {
   "cell_type": "markdown",
   "metadata": {},
   "source": [
    "#### Convert `sample_list_1` to a set called `set1`. Print the length of the set. Is its length still 80?"
   ]
  },
  {
   "cell_type": "code",
   "execution_count": 10,
   "metadata": {},
   "outputs": [
    {
     "name": "stdout",
     "output_type": "stream",
     "text": [
      "58\n"
     ]
    }
   ],
   "source": [
    "# Your code here\n",
    "set1 = set(sample_list_1)\n",
    "print(len(set1))\n"
   ]
  },
  {
   "cell_type": "markdown",
   "metadata": {},
   "source": [
    "#### Create another list named `sample_list_2` with 80 random values.\n",
    "\n",
    "Requirements:\n",
    "\n",
    "* Each value is an integer falling between 0 and 100.\n",
    "* The values in the list don't have to be unique.\n",
    "\n",
    "*Hint: Use a FOR loop.*"
   ]
  },
  {
   "cell_type": "code",
   "execution_count": 11,
   "metadata": {},
   "outputs": [
    {
     "data": {
      "text/plain": [
       "[34,\n",
       " 77,\n",
       " 2,\n",
       " 15,\n",
       " 71,\n",
       " 65,\n",
       " 1,\n",
       " 23,\n",
       " 65,\n",
       " 14,\n",
       " 62,\n",
       " 31,\n",
       " 24,\n",
       " 49,\n",
       " 66,\n",
       " 80,\n",
       " 28,\n",
       " 48,\n",
       " 92,\n",
       " 83,\n",
       " 51,\n",
       " 43,\n",
       " 52,\n",
       " 50,\n",
       " 16,\n",
       " 19,\n",
       " 91,\n",
       " 80,\n",
       " 49,\n",
       " 61,\n",
       " 8,\n",
       " 29,\n",
       " 60,\n",
       " 65,\n",
       " 83,\n",
       " 100,\n",
       " 18,\n",
       " 39,\n",
       " 98,\n",
       " 18,\n",
       " 23,\n",
       " 48,\n",
       " 100,\n",
       " 86,\n",
       " 71,\n",
       " 15,\n",
       " 29,\n",
       " 8,\n",
       " 96,\n",
       " 9,\n",
       " 64,\n",
       " 5,\n",
       " 46,\n",
       " 39,\n",
       " 24,\n",
       " 26,\n",
       " 51,\n",
       " 98,\n",
       " 61,\n",
       " 78,\n",
       " 16,\n",
       " 55,\n",
       " 40,\n",
       " 86,\n",
       " 41,\n",
       " 5,\n",
       " 98,\n",
       " 78,\n",
       " 28,\n",
       " 34,\n",
       " 79,\n",
       " 28,\n",
       " 17,\n",
       " 88,\n",
       " 1,\n",
       " 86,\n",
       " 31,\n",
       " 6,\n",
       " 79,\n",
       " 1]"
      ]
     },
     "execution_count": 11,
     "metadata": {},
     "output_type": "execute_result"
    }
   ],
   "source": [
    "# Your code here\n",
    "sample_list_2 = [random.randint(0,100) for x in range(80)]\n",
    "sample_list_2\n"
   ]
  },
  {
   "cell_type": "markdown",
   "metadata": {},
   "source": [
    "#### Convert `sample_list_2` to a set called `set2`. Print the length of the set. Is its length still 80?"
   ]
  },
  {
   "cell_type": "code",
   "execution_count": 12,
   "metadata": {},
   "outputs": [
    {
     "name": "stdout",
     "output_type": "stream",
     "text": [
      "49\n"
     ]
    }
   ],
   "source": [
    "# Your code here\n",
    "set2 = set(sample_list_2)\n",
    "print(len(set2))"
   ]
  },
  {
   "cell_type": "markdown",
   "metadata": {},
   "source": [
    "#### Identify the elements present in `set1` but not in `set2`. Assign the elements to a new set named `set3`."
   ]
  },
  {
   "cell_type": "code",
   "execution_count": 13,
   "metadata": {},
   "outputs": [],
   "source": [
    "# Your code here\n",
    "set3 = set "
   ]
  },
  {
   "cell_type": "markdown",
   "metadata": {},
   "source": [
    "#### Identify the elements present in `set2` but not in `set1`. Assign the elements to a new set named `set4`."
   ]
  },
  {
   "cell_type": "code",
   "execution_count": 14,
   "metadata": {},
   "outputs": [],
   "source": [
    "# Your code here\n"
   ]
  },
  {
   "cell_type": "markdown",
   "metadata": {},
   "source": [
    "#### Now Identify the elements shared between `set1` and `set2`. Assign the elements to a new set named `set5`."
   ]
  },
  {
   "cell_type": "code",
   "execution_count": 27,
   "metadata": {},
   "outputs": [
    {
     "name": "stdout",
     "output_type": "stream",
     "text": [
      "({0, 2, 5, 6, 7, 9, 10, 11, 12, 14, 18, 20, 21, 22, 25, 27, 28, 29, 30, 33, 34, 36, 37, 39, 41, 43, 45, 46, 49, 50, 55, 56, 59, 60, 61, 63, 64, 65, 66, 67, 71, 73, 74, 76, 79, 82, 83, 84, 85, 86, 89, 91, 92, 94, 96, 98, 99, 100}, {1, 2, 5, 6, 8, 9, 14, 15, 16, 17, 18, 19, 23, 24, 26, 28, 29, 31, 34, 39, 40, 41, 43, 46, 48, 49, 50, 51, 52, 55, 60, 61, 62, 64, 65, 66, 71, 77, 78, 79, 80, 83, 86, 88, 91, 92, 96, 98, 100})\n",
      "-\n",
      "2\n",
      "5\n",
      "6\n",
      "-\n",
      "9\n",
      "-\n",
      "-\n",
      "-\n",
      "14\n",
      "18\n",
      "-\n",
      "-\n",
      "-\n",
      "-\n",
      "-\n",
      "28\n",
      "29\n",
      "-\n",
      "-\n",
      "34\n",
      "-\n",
      "-\n",
      "39\n",
      "41\n",
      "43\n",
      "-\n",
      "46\n",
      "49\n",
      "50\n",
      "55\n",
      "-\n",
      "-\n",
      "60\n",
      "61\n",
      "-\n",
      "64\n",
      "65\n",
      "66\n",
      "-\n",
      "71\n",
      "-\n",
      "-\n",
      "-\n",
      "79\n",
      "-\n",
      "83\n",
      "-\n",
      "-\n",
      "86\n",
      "-\n",
      "91\n",
      "92\n",
      "-\n",
      "96\n",
      "98\n",
      "-\n",
      "100\n"
     ]
    }
   ],
   "source": [
    "# Your code here\n",
    "set_five = (set1, set2)\n",
    "print(set_five)\n",
    "\n",
    "for i in set1:\n",
    "    set5 = ()\n",
    "    if i in set2:\n",
    "        print(i)\n",
    "    else:\n",
    "        print(\"-\")\n",
    "        "
   ]
  },
  {
   "cell_type": "code",
   "execution_count": 25,
   "metadata": {},
   "outputs": [
    {
     "name": "stdout",
     "output_type": "stream",
     "text": [
      "()\n"
     ]
    }
   ],
   "source": [
    "print(set5)"
   ]
  },
  {
   "cell_type": "markdown",
   "metadata": {},
   "source": [
    "#### What is the relationship among the following values:\n",
    "\n",
    "* len(set1)\n",
    "* len(set2)\n",
    "* len(set3)\n",
    "* len(set4)\n",
    "* len(set5)\n",
    "\n",
    "Use a math formular to represent that relationship. Test your formular with Python code."
   ]
  },
  {
   "cell_type": "code",
   "execution_count": null,
   "metadata": {},
   "outputs": [],
   "source": [
    "# Your code here\n"
   ]
  },
  {
   "cell_type": "markdown",
   "metadata": {},
   "source": [
    "#### Create an empty set called `set6`."
   ]
  },
  {
   "cell_type": "code",
   "execution_count": 22,
   "metadata": {},
   "outputs": [],
   "source": [
    "# Your code here\n",
    "set6 = set()"
   ]
  },
  {
   "cell_type": "markdown",
   "metadata": {},
   "source": [
    "#### Add `set3` and `set5` to `set6` using the Python Set `update` method."
   ]
  },
  {
   "cell_type": "code",
   "execution_count": 29,
   "metadata": {},
   "outputs": [],
   "source": [
    "# Your code here\n"
   ]
  },
  {
   "cell_type": "markdown",
   "metadata": {},
   "source": [
    "#### Check if `set1` and `set6` are equal."
   ]
  },
  {
   "cell_type": "code",
   "execution_count": null,
   "metadata": {},
   "outputs": [],
   "source": [
    "# Your code here\n"
   ]
  },
  {
   "cell_type": "markdown",
   "metadata": {},
   "source": [
    "#### Check if `set1` contains `set2` using the Python Set `issubset` method. Then check if `set1` contains `set3`.*"
   ]
  },
  {
   "cell_type": "code",
   "execution_count": null,
   "metadata": {},
   "outputs": [],
   "source": [
    "# Your code here\n"
   ]
  },
  {
   "cell_type": "markdown",
   "metadata": {},
   "source": [
    "#### Using the Python Set `union` method, aggregate `set3`, `set4`, and `set5`. Then aggregate `set1` and `set2`. \n",
    "\n",
    "#### Check if the aggregated values are equal."
   ]
  },
  {
   "cell_type": "code",
   "execution_count": null,
   "metadata": {},
   "outputs": [],
   "source": [
    "# Your code here\n"
   ]
  },
  {
   "cell_type": "markdown",
   "metadata": {},
   "source": [
    "#### Using the `pop` method, remove the first element from `set1`."
   ]
  },
  {
   "cell_type": "code",
   "execution_count": 31,
   "metadata": {},
   "outputs": [
    {
     "name": "stdout",
     "output_type": "stream",
     "text": [
      "0\n"
     ]
    }
   ],
   "source": [
    "# Your code here\n",
    "x = set1.pop()\n",
    "print(x)"
   ]
  },
  {
   "cell_type": "markdown",
   "metadata": {},
   "source": [
    "#### Remove every element in the following list from `set1` if they are present in the set. Print the remaining elements.\n",
    "\n",
    "```\n",
    "list_to_remove = [1, 9, 11, 19, 21, 29, 31, 39, 41, 49, 51, 59, 61, 69, 71, 79, 81, 89, 91, 99]\n",
    "```"
   ]
  },
  {
   "cell_type": "code",
   "execution_count": null,
   "metadata": {},
   "outputs": [],
   "source": [
    "# Your code here\n"
   ]
  }
 ],
 "metadata": {
  "kernelspec": {
   "display_name": "Python 3",
   "language": "python",
   "name": "python3"
  },
  "language_info": {
   "codemirror_mode": {
    "name": "ipython",
    "version": 3
   },
   "file_extension": ".py",
   "mimetype": "text/x-python",
   "name": "python",
   "nbconvert_exporter": "python",
   "pygments_lexer": "ipython3",
   "version": "3.7.3"
  }
 },
 "nbformat": 4,
 "nbformat_minor": 2
}
